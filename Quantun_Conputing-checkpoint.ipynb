{
 "cells": [
  {
   "cell_type": "code",
   "execution_count": 6,
   "metadata": {},
   "outputs": [
    {
     "data": {
      "text/html": [
       "<pre style=\"word-wrap: normal;white-space: pre;background: #fff0;line-height: 1.1;font-family: &quot;Courier New&quot;,Courier,monospace\">     ┌───┐     ┌─┐   \n",
       "q_0: ┤ X ├──■──┤M├───\n",
       "     └───┘  │  └╥┘   \n",
       "q_1: ───────┼───╫────\n",
       "          ┌─┴─┐ ║ ┌─┐\n",
       "q_2: ─────┤ X ├─╫─┤M├\n",
       "          └───┘ ║ └╥┘\n",
       "q_3: ───────────╫──╫─\n",
       "                ║  ║ \n",
       "c_0: ═══════════╩══╬═\n",
       "                   ║ \n",
       "c_1: ══════════════╬═\n",
       "                   ║ \n",
       "c_2: ══════════════╩═\n",
       "                     \n",
       "c_3: ════════════════\n",
       "                     </pre>"
      ],
      "text/plain": [
       "     ┌───┐     ┌─┐   \n",
       "q_0: ┤ X ├──■──┤M├───\n",
       "     └───┘  │  └╥┘   \n",
       "q_1: ───────┼───╫────\n",
       "          ┌─┴─┐ ║ ┌─┐\n",
       "q_2: ─────┤ X ├─╫─┤M├\n",
       "          └───┘ ║ └╥┘\n",
       "q_3: ───────────╫──╫─\n",
       "                ║  ║ \n",
       "c_0: ═══════════╩══╬═\n",
       "                   ║ \n",
       "c_1: ══════════════╬═\n",
       "                   ║ \n",
       "c_2: ══════════════╩═\n",
       "                     \n",
       "c_3: ════════════════\n",
       "                     "
      ]
     },
     "execution_count": 6,
     "metadata": {},
     "output_type": "execute_result"
    }
   ],
   "source": [
    "import qiskit as q\n",
    "%matplotlib inline\n",
    "circuit = q.QuantumCircuit(4,4)\n",
    "circuit.x(0)\n",
    "circuit.cx(0,2)\n",
    "circuit.measure([0,2],[0,2])\n",
    "circuit.draw()"
   ]
  },
  {
   "cell_type": "code",
   "execution_count": 7,
   "metadata": {},
   "outputs": [
    {
     "data": {
      "image/png": "[encoded data removed]",
      "text/plain": [
       "<Figure size 418.992x325.08 with 1 Axes>"
      ]
     },
     "execution_count": 7,
     "metadata": {},
     "output_type": "execute_result"
    }
   ],
   "source": [
    "circuit.draw(output=\"mpl\")"
   ]
  },
  {
   "cell_type": "code",
   "execution_count": 2,
   "metadata": {},
   "outputs": [],
   "source": [
    "from qiskit import IBMQ"
   ]
  },
  {
   "cell_type": "code",
   "execution_count": 6,
   "metadata": {},
   "outputs": [
    {
     "ename": "SyntaxError",
     "evalue": "(unicode error) 'unicodeescape' codec can't decode bytes in position 2-3: truncated \\UXXXXXXXX escape (<ipython-input-6-0593914f5955>, line 1)",
     "output_type": "error",
     "traceback": [
      "\u001b[1;36m  File \u001b[1;32m\"<ipython-input-6-0593914f5955>\"\u001b[1;36m, line \u001b[1;32m1\u001b[0m\n\u001b[1;33m    IBMQ.save_account(open(\"C:\\Users\\DD\\Desktop\\PYTHON\\project1\\Token.txt\",\"r\").read())\u001b[0m\n\u001b[1;37m                          ^\u001b[0m\n\u001b[1;31mSyntaxError\u001b[0m\u001b[1;31m:\u001b[0m (unicode error) 'unicodeescape' codec can't decode bytes in position 2-3: truncated \\UXXXXXXXX escape\n"
     ]
    }
   ],
   "source": [
    "IBMQ.save_account(open(\"C:\\Users\\DD\\Desktop\\PYTHON\\project1\\Token.txt\",\"r\").read())"
   ]
  },
  {
   "cell_type": "code",
   "execution_count": null,
   "metadata": {},
   "outputs": [],
   "source": []
  }
 ],
 "metadata": {
  "kernelspec": {
   "display_name": "Python 3",
   "language": "python",
   "name": "python3"
  },
  "language_info": {
   "codemirror_mode": {
    "name": "ipython",
    "version": 3
   },
   "file_extension": ".py",
   "mimetype": "text/x-python",
   "name": "python",
   "nbconvert_exporter": "python",
   "pygments_lexer": "ipython3",
   "version": "3.7.1"
  }
 },
 "nbformat": 4,
 "nbformat_minor": 2
}
